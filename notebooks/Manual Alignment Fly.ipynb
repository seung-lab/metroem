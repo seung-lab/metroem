{
 "cells": [
  {
   "cell_type": "code",
   "execution_count": 1,
   "metadata": {},
   "outputs": [],
   "source": [
    "%matplotlib inline\n",
    "%load_ext autoreload\n",
    "%autoreload 2\n",
    "\n",
    "from visualize import PyramidVisualizer, get_dataset, simple_visualizer\n",
    "from metroem.aligner import Aligner"
   ]
  },
  {
   "cell_type": "code",
   "execution_count": 37,
   "metadata": {},
   "outputs": [
    {
     "name": "stdout",
     "output_type": "stream",
     "text": [
      "/usr/people/popovych/.modelhouse/tmp_files/tmp_rf6j8e9/model/model_spec.json\n",
      "block_6convs_fms8to32_skip25.json\n",
      "categorical/categorical_compch15_gridfalse_maxvalue7_outch2_stepnull_trainsttrue.json\n",
      "block_6convs_fms8to32_skip25.json\n",
      "categorical/categorical_compch15_gridfalse_maxvalue7_outch2_stepnull_trainsttrue.json\n",
      "identity.json\n",
      "embedder_m0_3x3_fms3x.json\n",
      "block_5convs_7x7_fms1to3_skip14.json\n",
      "block_3convs_3x3_fms3to32to3.json\n",
      "Setting layer to non trainable\n",
      "average_pool.json\n",
      "embedder_fms4to3.json\n",
      "block_3convs_3x3_fms4to32to3.json\n",
      "average_pool.json\n",
      "block_3convs_3x3_fms3to32to3.json\n",
      "Setting layer to non trainable\n",
      "identity.json\n",
      "identity.json\n",
      "identity.json\n",
      "upsample_residuals.json\n",
      "identity.json\n"
     ]
    },
    {
     "name": "stderr",
     "output_type": "stream",
     "text": [
      "/usr/people/popovych/env/corgie_merge/lib/python3.7/site-packages/artificery/parsers/categorical_regression/parse.py:38: UserWarning: torch.range is deprecated in favor of torch.arange and will be removed in 0.5. Note that arange generates values in [start; end), not [start; end].\n",
      "  requires_grad=False) - self.component_channels//2\n"
     ]
    }
   ],
   "source": [
    "import modelhouse\n",
    "import json\n",
    "\n",
    "model_path = \"matrix://corgie-models/FAFB_align_m3\"\n",
    "\n",
    "model_path = \"gs://tmacrina-corgie-test/models/fly_m3_211116_plain100_metric264_0.5_metric84_0.8_metric303_0.7/3_mip3in_mip3module\"\n",
    "\n",
    "aligner = modelhouse.load_model(\n",
    "    path=model_path,\n",
    "    params=json.dumps({\n",
    "      \"checkpoint_name\": \"test_no_batchnorm\",\n",
    "      \"finetune\": False,\n",
    "      \"finetune_iter\": 1000,\n",
    "      \"finetune_lr\": 0.3,\n",
    "      \"finetune_sm\": 300,\n",
    "      \"sm_defect_coarsening\": [[1, 0.0]],\n",
    "      \"crop\": 32\n",
    "    })\n",
    ")"
   ]
  },
  {
   "cell_type": "code",
   "execution_count": 38,
   "metadata": {},
   "outputs": [],
   "source": [
    "import cloudvolume as cv\n",
    "import torch\n",
    "\n",
    "raw_img_path = 'tigerdata://sseung-archive/fafb-v15-alignment-temp/precoarse_composite_v2/complete_normalized_mip3/img/img_norm'\n",
    "\n",
    "\n",
    "#z = 226\n",
    "z = 1409\n",
    "#x_start = 140000\n",
    "#y_start = 60000\n",
    "\n",
    "'''x_start = 140000\n",
    "y_start = 60000\n",
    "img_mip = 3'''\n",
    "\n",
    "x_start = 100000\n",
    "y_start = 55000\n",
    "img_mip = 3\n",
    "\n",
    "x_size = 1024 * 2**img_mip\n",
    "y_size = x_size\n",
    "pad = 128 * 2**3\n",
    "\n",
    "img_cv = cv.CloudVolume(raw_img_path, mip=img_mip, parallel=True, progress=False, bounded=False, fill_missing=True)\n",
    "img1_np = img_cv[(x_start-pad)//2**img_mip:(x_start+x_size+pad)//2**img_mip, (y_start-pad)//2**img_mip:(y_start+y_size+pad)//2**img_mip, z:z+1].squeeze()\n",
    "img2_np = img_cv[(x_start-pad)//2**img_mip:(x_start+x_size+pad)//2**img_mip, (y_start-pad)//2**img_mip:(y_start+y_size+pad)//2**img_mip, z+1:z+2].squeeze()\n",
    "\n",
    "img1_t = torch.tensor(img2_np, device='cuda').unsqueeze(0).unsqueeze(0)\n",
    "img2_t = torch.tensor(img1_np, device='cuda').unsqueeze(0).unsqueeze(0)\n",
    "\n",
    "src_tgt_t = torch.cat([img1_t, img2_t], 1)\n",
    "#pred_res = aligner(src_img=img1_t, tgt_img=img2_t)"
   ]
  },
  {
   "cell_type": "code",
   "execution_count": 39,
   "metadata": {},
   "outputs": [],
   "source": [
    "'''MIP5 with net\n",
    "\n",
    "\n",
    "0.5840146541595459secs for net\n",
    "2.9854114 2.8923268 0.09308447\n",
    "New best: 92, No impr: 0, Iter: 199\n",
    "2.2851658 2.0513072 0.23385859\n",
    "12.488795042037964\n",
    "'''\n",
    "\n",
    "'''MIP5 without net\n",
    "\n",
    "\n",
    "0.6791865825653076secs for net\n",
    "3.17221 3.17221 0.0\n",
    "New best: 117, No impr: 0, Iter: 199\n",
    "2.2737517 2.0241246 0.24962708\n",
    "12.609593868255615\n",
    "'''\n",
    "stuffs = {}"
   ]
  },
  {
   "cell_type": "code",
   "execution_count": 40,
   "metadata": {},
   "outputs": [
    {
     "name": "stdout",
     "output_type": "stream",
     "text": [
      "0.47731566429138184secs for net\n"
     ]
    },
    {
     "data": {
      "text/plain": [
       "tensor(16.7528, device='cuda:0')"
      ]
     },
     "execution_count": 40,
     "metadata": {},
     "output_type": "execute_result"
    }
   ],
   "source": [
    "img1_t = torch.tensor(img2_np, device='cuda').unsqueeze(0).unsqueeze(0)\n",
    "img2_t = torch.tensor(img1_np, device='cuda').unsqueeze(0).unsqueeze(0)\n",
    "\n",
    "src_tgt_t = torch.cat([img1_t, img2_t], 1)\n",
    "pred_res = aligner(src_img=img1_t, tgt_img=img2_t)\n",
    "pred_res[:, :, 20:-20, 20:-20].abs().max()"
   ]
  },
  {
   "cell_type": "code",
   "execution_count": 41,
   "metadata": {},
   "outputs": [
    {
     "data": {
      "application/vnd.jupyter.widget-view+json": {
       "model_id": "111b01e21acc4247a90650fdd51d47d1",
       "version_major": 2,
       "version_minor": 0
      },
      "text/plain": [
       "interactive(children=(ToggleButtons(description='Image:', options=(0, 1, 2, 3), value=0), IntText(value=1, des…"
      ]
     },
     "metadata": {},
     "output_type": "display_data"
    }
   ],
   "source": [
    "s = 0\n",
    "e = -1\n",
    "simple_visualizer().visualize([pred_res[..., s:e, s:e], pred_res.from_pixels()(img1_t)[..., s:e, s:e], img1_t[..., s:e, s:e], img2_t[..., s:e, s:e]])"
   ]
  },
  {
   "cell_type": "code",
   "execution_count": 94,
   "metadata": {},
   "outputs": [],
   "source": [
    "stuffs['sm300_1kiter_20_05'] =  pred_res.from_pixels()(img1_t)[..., s:e, s:e]"
   ]
  },
  {
   "cell_type": "code",
   "execution_count": 74,
   "metadata": {},
   "outputs": [
    {
     "data": {
      "text/plain": [
       "tensor(1.9996, device='cuda:0', grad_fn=<MaxBackward1>)"
      ]
     },
     "execution_count": 74,
     "metadata": {},
     "output_type": "execute_result"
    }
   ],
   "source": [
    "pred_res[..., s:e, s:e].abs().max()"
   ]
  },
  {
   "cell_type": "code",
   "execution_count": 78,
   "metadata": {},
   "outputs": [
    {
     "data": {
      "text/plain": [
       "tensor(2.1741, device='cuda:0', grad_fn=<MaxBackward1>)"
      ]
     },
     "execution_count": 78,
     "metadata": {},
     "output_type": "execute_result"
    }
   ],
   "source": [
    "pred_res[..., s:e, s:e].abs().max()"
   ]
  },
  {
   "cell_type": "code",
   "execution_count": 129,
   "metadata": {},
   "outputs": [
    {
     "data": {
      "application/vnd.jupyter.widget-view+json": {
       "model_id": "d9b8533c256c4e1b836792a5a57eadb0",
       "version_major": 2,
       "version_minor": 0
      },
      "text/plain": [
       "interactive(children=(ToggleButtons(description='Image:', options=(0, 1, 2, 3, 4, 5, 6, 7, 8, 9), value=0), In…"
      ]
     },
     "metadata": {},
     "output_type": "display_data"
    }
   ],
   "source": [
    "s = 350\n",
    "e = 550\n",
    "simple_visualizer().visualize([stuffs['sm300_1kiter_20_05'], stuffs['sm300_1kiter'],  stuffs['sm300_1kiter_02_00'], stuffs['sm300_1kiter_50_20'], stuffs['sm300_1kiter'], img1_t[..., s:e, s:e], img2_t[..., s:e, s:e], stuffs['sm300_1kiter_10_20'], stuffs['sm300_1kiter_10_02'], stuffs['sm300_1kiter_20_05']])"
   ]
  },
  {
   "cell_type": "code",
   "execution_count": 72,
   "metadata": {},
   "outputs": [
    {
     "data": {
      "application/vnd.jupyter.widget-view+json": {
       "model_id": "beb2f3c52a564546a66c52b7b8eeb91e",
       "version_major": 2,
       "version_minor": 0
      },
      "text/plain": [
       "interactive(children=(ToggleButtons(description='Image:', options=(0, 1, 2, 3), value=0), IntText(value=1, des…"
      ]
     },
     "metadata": {},
     "output_type": "display_data"
    }
   ],
   "source": [
    "s = 350\n",
    "e = 550\n",
    "simple_visualizer().visualize([pred_res[..., s:e, s:e], pred_res.from_pixels()(img1_t)[..., s:e, s:e], img1_t[..., s:e, s:e], img2_t[..., s:e, s:e]])"
   ]
  },
  {
   "cell_type": "code",
   "execution_count": 5,
   "metadata": {},
   "outputs": [
    {
     "name": "stderr",
     "output_type": "stream",
     "text": [
      "/usr/people/popovych/env/corgie_merge/lib/python3.7/site-packages/ipykernel_launcher.py:8: DeprecationWarning: `np.int` is a deprecated alias for the builtin `int`. To silence this warning, use `int` by itself. Doing this will not modify any behavior and is safe. When replacing `np.int`, you may wish to use e.g. `np.int64` or `np.int32` to specify the precision. If you wish to review your current use, check the release note link for additional information.\n",
      "Deprecated in NumPy 1.20; for more details and guidance: https://numpy.org/devdocs/release/1.20.0-notes.html#deprecations\n",
      "  \n"
     ]
    },
    {
     "ename": "NameError",
     "evalue": "name 'simple_visualizer' is not defined",
     "output_type": "error",
     "traceback": [
      "\u001b[0;31m---------------------------------------------------------------------------\u001b[0m",
      "\u001b[0;31mNameError\u001b[0m                                 Traceback (most recent call last)",
      "\u001b[0;32m<ipython-input-5-c43080f463d2>\u001b[0m in \u001b[0;36m<module>\u001b[0;34m\u001b[0m\n\u001b[1;32m      7\u001b[0m \u001b[0mclosed\u001b[0m \u001b[0;34m=\u001b[0m \u001b[0mmetroem\u001b[0m\u001b[0;34m.\u001b[0m\u001b[0mmasks\u001b[0m\u001b[0;34m.\u001b[0m\u001b[0mclosing\u001b[0m\u001b[0;34m(\u001b[0m\u001b[0mmask\u001b[0m\u001b[0;34m,\u001b[0m \u001b[0mn\u001b[0m\u001b[0;34m=\u001b[0m\u001b[0;36m40\u001b[0m\u001b[0;34m)\u001b[0m\u001b[0;34m.\u001b[0m\u001b[0mastype\u001b[0m\u001b[0;34m(\u001b[0m\u001b[0mnp\u001b[0m\u001b[0;34m.\u001b[0m\u001b[0mfloat32\u001b[0m\u001b[0;34m)\u001b[0m\u001b[0;34m\u001b[0m\u001b[0;34m\u001b[0m\u001b[0m\n\u001b[1;32m      8\u001b[0m \u001b[0mclosed_2\u001b[0m \u001b[0;34m=\u001b[0m \u001b[0mndimage\u001b[0m\u001b[0;34m.\u001b[0m\u001b[0mbinary_closing\u001b[0m\u001b[0;34m(\u001b[0m\u001b[0mmask\u001b[0m\u001b[0;34m,\u001b[0m \u001b[0miterations\u001b[0m\u001b[0;34m=\u001b[0m\u001b[0;36m40\u001b[0m\u001b[0;34m)\u001b[0m\u001b[0;34m.\u001b[0m\u001b[0mastype\u001b[0m\u001b[0;34m(\u001b[0m\u001b[0mnp\u001b[0m\u001b[0;34m.\u001b[0m\u001b[0mint\u001b[0m\u001b[0;34m)\u001b[0m\u001b[0;34m\u001b[0m\u001b[0;34m\u001b[0m\u001b[0m\n\u001b[0;32m----> 9\u001b[0;31m \u001b[0msimple_visualizer\u001b[0m\u001b[0;34m(\u001b[0m\u001b[0;34m)\u001b[0m\u001b[0;34m.\u001b[0m\u001b[0mvisualize\u001b[0m\u001b[0;34m(\u001b[0m\u001b[0;34m[\u001b[0m\u001b[0;34m(\u001b[0m\u001b[0mmask\u001b[0m \u001b[0;34m==\u001b[0m \u001b[0;36m0\u001b[0m\u001b[0;34m)\u001b[0m \u001b[0;34m*\u001b[0m \u001b[0mclosed\u001b[0m\u001b[0;34m,\u001b[0m \u001b[0mclosed\u001b[0m\u001b[0;34m,\u001b[0m \u001b[0mclosed_2\u001b[0m\u001b[0;34m,\u001b[0m \u001b[0mimg1_np\u001b[0m\u001b[0;34m,\u001b[0m \u001b[0mmask\u001b[0m\u001b[0;34m,\u001b[0m \u001b[0mclosed\u001b[0m\u001b[0;34m]\u001b[0m\u001b[0;34m)\u001b[0m\u001b[0;34m\u001b[0m\u001b[0;34m\u001b[0m\u001b[0m\n\u001b[0m",
      "\u001b[0;31mNameError\u001b[0m: name 'simple_visualizer' is not defined"
     ]
    }
   ],
   "source": [
    "import metroem\n",
    "from metroem.helpers import get_np\n",
    "import numpy as np\n",
    "from scipy import ndimage\n",
    "\n",
    "mask = (img1_np != 0).astype(np.float32)\n",
    "closed = metroem.masks.closing(mask, n=40).astype(np.float32)\n",
    "closed_2 = ndimage.binary_closing(mask, iterations=40).astype(np.int)\n",
    "simple_visualizer().visualize([(mask == 0) * closed, closed, closed_2, img1_np, mask, closed])"
   ]
  },
  {
   "cell_type": "code",
   "execution_count": null,
   "metadata": {},
   "outputs": [],
   "source": [
    "ndimage.binary_closing(a).astype(np.int)"
   ]
  },
  {
   "cell_type": "code",
   "execution_count": 19,
   "metadata": {},
   "outputs": [
    {
     "name": "stderr",
     "output_type": "stream",
     "text": [
      "/usr/people/popovych/env/corgie_merge/lib/python3.7/site-packages/ipykernel_launcher.py:1: DeprecationWarning: `np.int` is a deprecated alias for the builtin `int`. To silence this warning, use `int` by itself. Doing this will not modify any behavior and is safe. When replacing `np.int`, you may wish to use e.g. `np.int64` or `np.int32` to specify the precision. If you wish to review your current use, check the release note link for additional information.\n",
      "Deprecated in NumPy 1.20; for more details and guidance: https://numpy.org/devdocs/release/1.20.0-notes.html#deprecations\n",
      "  \"\"\"Entry point for launching an IPython kernel.\n"
     ]
    }
   ],
   "source": [
    "a = np.zeros((5,5), dtype=np.int)"
   ]
  },
  {
   "cell_type": "code",
   "execution_count": 20,
   "metadata": {},
   "outputs": [],
   "source": [
    "a[1:-1, 1:-1] = 1; a[2,2] = 0"
   ]
  },
  {
   "cell_type": "code",
   "execution_count": 21,
   "metadata": {},
   "outputs": [
    {
     "data": {
      "text/plain": [
       "array([[0, 0, 0, 0, 0],\n",
       "       [0, 1, 1, 1, 0],\n",
       "       [0, 1, 0, 1, 0],\n",
       "       [0, 1, 1, 1, 0],\n",
       "       [0, 0, 0, 0, 0]])"
      ]
     },
     "execution_count": 21,
     "metadata": {},
     "output_type": "execute_result"
    }
   ],
   "source": [
    "a"
   ]
  },
  {
   "cell_type": "code",
   "execution_count": 22,
   "metadata": {},
   "outputs": [
    {
     "data": {
      "application/vnd.jupyter.widget-view+json": {
       "model_id": "c049ab09b4e2494c89379301a38e64c9",
       "version_major": 2,
       "version_minor": 0
      },
      "text/plain": [
       "interactive(children=(ToggleButtons(description='Image:', options=(0,), value=0), IntText(value=1, description…"
      ]
     },
     "metadata": {},
     "output_type": "display_data"
    }
   ],
   "source": [
    "simple_visualizer().visualize([a])"
   ]
  },
  {
   "cell_type": "code",
   "execution_count": 23,
   "metadata": {},
   "outputs": [
    {
     "ename": "NameError",
     "evalue": "name 'ndimage' is not defined",
     "output_type": "error",
     "traceback": [
      "\u001b[0;31m---------------------------------------------------------------------------\u001b[0m",
      "\u001b[0;31mNameError\u001b[0m                                 Traceback (most recent call last)",
      "\u001b[0;32m<ipython-input-23-7b4b16b14ce1>\u001b[0m in \u001b[0;36m<module>\u001b[0;34m\u001b[0m\n\u001b[0;32m----> 1\u001b[0;31m \u001b[0mndimage\u001b[0m\u001b[0;34m.\u001b[0m\u001b[0mbinary_closing\u001b[0m\u001b[0;34m(\u001b[0m\u001b[0ma\u001b[0m\u001b[0;34m)\u001b[0m\u001b[0;34m.\u001b[0m\u001b[0mastype\u001b[0m\u001b[0;34m(\u001b[0m\u001b[0mnp\u001b[0m\u001b[0;34m.\u001b[0m\u001b[0mint\u001b[0m\u001b[0;34m)\u001b[0m\u001b[0;34m\u001b[0m\u001b[0;34m\u001b[0m\u001b[0m\n\u001b[0m",
      "\u001b[0;31mNameError\u001b[0m: name 'ndimage' is not defined"
     ]
    }
   ],
   "source": []
  },
  {
   "cell_type": "code",
   "execution_count": 24,
   "metadata": {},
   "outputs": [],
   "source": [
    "from scipy import ndimage"
   ]
  },
  {
   "cell_type": "code",
   "execution_count": 26,
   "metadata": {},
   "outputs": [
    {
     "name": "stderr",
     "output_type": "stream",
     "text": [
      "/usr/people/popovych/env/corgie_merge/lib/python3.7/site-packages/ipykernel_launcher.py:1: DeprecationWarning: `np.int` is a deprecated alias for the builtin `int`. To silence this warning, use `int` by itself. Doing this will not modify any behavior and is safe. When replacing `np.int`, you may wish to use e.g. `np.int64` or `np.int32` to specify the precision. If you wish to review your current use, check the release note link for additional information.\n",
      "Deprecated in NumPy 1.20; for more details and guidance: https://numpy.org/devdocs/release/1.20.0-notes.html#deprecations\n",
      "  \"\"\"Entry point for launching an IPython kernel.\n"
     ]
    }
   ],
   "source": [
    "once = ndimage.binary_closing(a).astype(np.int)"
   ]
  },
  {
   "cell_type": "code",
   "execution_count": 27,
   "metadata": {},
   "outputs": [
    {
     "data": {
      "application/vnd.jupyter.widget-view+json": {
       "model_id": "b3d43858ff1c4084bd91bbb5e2f017e7",
       "version_major": 2,
       "version_minor": 0
      },
      "text/plain": [
       "interactive(children=(ToggleButtons(description='Image:', options=(0,), value=0), IntText(value=1, description…"
      ]
     },
     "metadata": {},
     "output_type": "display_data"
    }
   ],
   "source": [
    "simple_visualizer().visualize([once])"
   ]
  },
  {
   "cell_type": "code",
   "execution_count": null,
   "metadata": {},
   "outputs": [],
   "source": []
  }
 ],
 "metadata": {
  "kernelspec": {
   "display_name": "corige_merge",
   "language": "python",
   "name": "corgie_merge"
  },
  "language_info": {
   "codemirror_mode": {
    "name": "ipython",
    "version": 3
   },
   "file_extension": ".py",
   "mimetype": "text/x-python",
   "name": "python",
   "nbconvert_exporter": "python",
   "pygments_lexer": "ipython3",
   "version": "3.7.10"
  }
 },
 "nbformat": 4,
 "nbformat_minor": 4
}
