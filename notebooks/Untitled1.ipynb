{
 "cells": [
  {
   "cell_type": "code",
   "execution_count": 72,
   "id": "05e443b4-db93-46cf-b339-5b33678b7dc4",
   "metadata": {},
   "outputs": [
    {
     "name": "stdout",
     "output_type": "stream",
     "text": [
      "The autoreload extension is already loaded. To reload it, use:\n",
      "  %reload_ext autoreload\n"
     ]
    }
   ],
   "source": [
    "%matplotlib inline\n",
    "%load_ext autoreload\n",
    "%autoreload 2\n",
    "\n",
    "from visualize import PyramidVisualizer, get_dataset, simple_visualizer\n",
    "from metroem.aligner import Aligner\n",
    "from collections import defaultdict\n",
    "import random\n",
    "import cloudvolume as cv\n",
    "import numpy as np\n",
    "import metroem\n",
    "import torch"
   ]
  },
  {
   "cell_type": "code",
   "execution_count": 23,
   "id": "2b6d3074-c35f-4925-b0fd-79f1f38e732d",
   "metadata": {},
   "outputs": [],
   "source": [
    "cv_path = 'precomputed://gs://h01-release/data/20210601/4nm_raw'"
   ]
  },
  {
   "cell_type": "code",
   "execution_count": 24,
   "id": "ed2a7c8b-a045-4644-a3c7-01250feae67e",
   "metadata": {},
   "outputs": [],
   "source": [
    "def get_srctgt(cv_path, x_start, y_start, z, img_mip, x_size=1024, y_size=1024):\n",
    "    img_cv = cv.CloudVolume(cv_path, mip=img_mip, parallel=True, progress=False, bounded=False, fill_missing=True)\n",
    "    \n",
    "    x_size *= 2**img_mip\n",
    "    y_size *= 2**img_mip\n",
    "\n",
    "    img1_np = img_cv[(x_start)//2**img_mip:(x_start+x_size)//2**img_mip, (y_start)//2**img_mip:(y_start+y_size)//2**img_mip, z:z+1].squeeze()\n",
    "    img2_np = img_cv[(x_start)//2**img_mip:(x_start+x_size)//2**img_mip, (y_start)//2**img_mip:(y_start+y_size)//2**img_mip, z+1:z+2].squeeze()\n",
    "\n",
    "    img1_t = torch.tensor(img2_np, device='cuda').unsqueeze(0).unsqueeze(0)\n",
    "    img2_t = torch.tensor(img1_np, device='cuda').unsqueeze(0).unsqueeze(0)\n",
    "    \n",
    "    img1_t = torch.tensor(img2_np, device='cuda').unsqueeze(0).unsqueeze(0)\n",
    "    img2_t = torch.tensor(img1_np, device='cuda').unsqueeze(0).unsqueeze(0)\n",
    "\n",
    "    #src_tgt_t = torch.cat([img1_t, img2_t], 1)\n",
    "    return img1_t, img2_t"
   ]
  },
  {
   "cell_type": "code",
   "execution_count": 209,
   "id": "51a9fea7-e11b-4424-a5b4-e2cceab83153",
   "metadata": {},
   "outputs": [],
   "source": [
    "img_cv = cv.CloudVolume(cv_path, mip=1, parallel=True, progress=False, bounded=False, fill_missing=True)\n",
    "size = 4096 * 2"
   ]
  },
  {
   "cell_type": "code",
   "execution_count": 210,
   "id": "20d15298-0ca6-4c80-aab6-a3d2e9847901",
   "metadata": {},
   "outputs": [],
   "source": [
    "img = np.array(img_cv[223045:223045+size, 130013:130013+size, 1778].squeeze())"
   ]
  },
  {
   "cell_type": "code",
   "execution_count": 229,
   "id": "7485fabb-0195-49da-a58b-be544c9ae67e",
   "metadata": {},
   "outputs": [
    {
     "data": {
      "text/plain": [
       "{'chunk_sizes': [[128, 128, 32]],\n",
       " 'encoding': 'jpeg',\n",
       " 'key': '8.0x8.0x33.0',\n",
       " 'resolution': [8, 8, 33],\n",
       " 'sharding': {'@type': 'neuroglancer_uint64_sharded_v1',\n",
       "  'hash': 'identity',\n",
       "  'minishard_bits': 6,\n",
       "  'minishard_index_encoding': 'gzip',\n",
       "  'preshift_bits': 9,\n",
       "  'shard_bits': 17},\n",
       " 'size': [515892, 356400, 5293]}"
      ]
     },
     "execution_count": 229,
     "metadata": {},
     "output_type": "execute_result"
    }
   ],
   "source": [
    "img_cv.scales[1]"
   ]
  },
  {
   "cell_type": "code",
   "execution_count": null,
   "id": "8d5cb8b6-e609-4b20-b389-3709d8e54aa8",
   "metadata": {},
   "outputs": [],
   "source": []
  },
  {
   "cell_type": "code",
   "execution_count": 230,
   "id": "8e3de8c1-9c21-4a51-93ee-5751510b55c7",
   "metadata": {},
   "outputs": [],
   "source": [
    "img_t = torch.tensor(img, device='cuda').unsqueeze(0).unsqueeze(0)\n",
    "for i in range(7 - 1):\n",
    "    img_t = torch.nn.functional.interpolate(img_t, scale_factor=1.0/(2**1)).float()"
   ]
  },
  {
   "cell_type": "code",
   "execution_count": 233,
   "id": "571357ac-3813-48dd-9ca4-a7aa3aeedb6d",
   "metadata": {
    "tags": []
   },
   "outputs": [
    {
     "data": {
      "text/plain": [
       "torch.Size([3, 128, 128])"
      ]
     },
     "execution_count": 233,
     "metadata": {},
     "output_type": "execute_result"
    }
   ],
   "source": [
    "\n",
    "img_n = metroem.helpers.normalize(img_t, mask=torch.ones_like(img_t).float())\n",
    "emb = aligner_m7.aligner.get_embeddings(img_n)\n",
    "emb.shape"
   ]
  },
  {
   "cell_type": "code",
   "execution_count": 232,
   "id": "e73ba709-25f5-4a9d-acdb-15c50706bed2",
   "metadata": {},
   "outputs": [
    {
     "data": {
      "application/vnd.jupyter.widget-view+json": {
       "model_id": "9105a23d3aee452f84e157f703481f2c",
       "version_major": 2,
       "version_minor": 0
      },
      "text/plain": [
       "interactive(children=(ToggleButtons(description='Image:', options=(0, 1, 2, 3), value=0), IntText(value=1, des…"
      ]
     },
     "metadata": {},
     "output_type": "display_data"
    }
   ],
   "source": [
    "simple_visualizer().visualize([img_n, img_t, img, emb[0]])"
   ]
  },
  {
   "cell_type": "code",
   "execution_count": 204,
   "id": "c297dc0d-2490-44a6-88d1-a23d8dc7633b",
   "metadata": {},
   "outputs": [
    {
     "name": "stdout",
     "output_type": "stream",
     "text": [
      "/usr/people/popovych/.modelhouse/tmp_files/tmp_z1rjbeq/model/model_spec.json\n",
      "block_6convs_fms8to32_skip25.json\n",
      "categorical/categorical_compch15_gridfalse_maxvalue7_outch2_stepnull_trainsttrue.json\n",
      "identity.json\n",
      "embedder_m0_3x3_fms3x.json\n",
      "block_5convs_3x3_fms1to3_skip14.json\n",
      "average_pool.json\n",
      "embedder_fms4to3.json\n",
      "block_3convs_3x3_fms4to32to3.json\n",
      "average_pool.json\n",
      "block_3convs_3x3_fms3to32to3.json\n",
      "identity.json\n",
      "identity.json\n",
      "identity.json\n",
      "upsample_residuals.json\n",
      "identity.json\n"
     ]
    },
    {
     "name": "stderr",
     "output_type": "stream",
     "text": [
      "/usr/people/popovych/miniconda3/envs/corgie_env_x3/lib/python3.8/site-packages/artificery-0.0.3.3-py3.8.egg/artificery/parsers/categorical_regression/parse.py:37: UserWarning: torch.range is deprecated and will be removed in a future release because its behavior is inconsistent with Python's range builtin. Instead, use torch.arange, which produces values in [start, end).\n",
      "  self.weights = torch.range(0, self.component_channels - 1, device=device,\n"
     ]
    }
   ],
   "source": [
    "import modelhouse\n",
    "import json\n",
    "aligner_m4 = modelhouse.load_model(\n",
    "    path=\"gs://corgie/models/pyramid_m4m6m9/2_mip4in_mip4module\",\n",
    "    params=json.dumps({\n",
    "         \"finetune\": True, \"finetune_iter\": 1, \"checkpoint_name\": \"metric_net\",\n",
    "         \"finetune_sm\": 10\n",
    "    })\n",
    ").cuda()\n",
    "aligner_m5 = modelhouse.load_model(\n",
    "    path=\"gs://corgie/models/pyramid_m4m6m9/1_mip5in_mip6module\",\n",
    "    params=json.dumps({\n",
    "         \"finetune\": True, \"finetune_iter\": 1, \"checkpoint_name\": \"metric_net\",\n",
    "         \"finetune_sm\": 10\n",
    "    })\n",
    ").cuda()\n",
    "aligner_m7 = modelhouse.load_model(\n",
    "    path=\"gs://corgie/models/pyramid_m4m6m9/0_mip7in_mip9module\",\n",
    "    params=json.dumps({\n",
    "         \"finetune\": True, \"finetune_iter\": 1, \"checkpoint_name\": \"metric_net\",\n",
    "         \"finetune_sm\": 10\n",
    "    })\n",
    ").cuda()"
   ]
  },
  {
   "cell_type": "code",
   "execution_count": 168,
   "id": "928567e4-5489-4ad8-86ca-370b7990d9e2",
   "metadata": {},
   "outputs": [],
   "source": []
  },
  {
   "cell_type": "code",
   "execution_count": null,
   "id": "1a15226b-c6b6-4110-94bb-52b685fa80ed",
   "metadata": {},
   "outputs": [],
   "source": []
  }
 ],
 "metadata": {
  "kernelspec": {
   "display_name": "corgie_env_x33",
   "language": "python",
   "name": "corgie_env_x33"
  },
  "language_info": {
   "codemirror_mode": {
    "name": "ipython",
    "version": 3
   },
   "file_extension": ".py",
   "mimetype": "text/x-python",
   "name": "python",
   "nbconvert_exporter": "python",
   "pygments_lexer": "ipython3",
   "version": "3.8.12"
  }
 },
 "nbformat": 4,
 "nbformat_minor": 5
}
