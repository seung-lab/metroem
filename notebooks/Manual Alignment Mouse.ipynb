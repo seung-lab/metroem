{
 "cells": [
  {
   "cell_type": "code",
   "execution_count": 1,
   "metadata": {},
   "outputs": [],
   "source": [
    "%matplotlib inline\n",
    "%load_ext autoreload\n",
    "%autoreload 2\n",
    "\n",
    "from visualize import PyramidVisualizer, get_dataset, simple_visualizer\n",
    "from metroem.aligner import Aligner\n",
    "from collections import defaultdict\n",
    "import random"
   ]
  },
  {
   "cell_type": "code",
   "execution_count": 69,
   "metadata": {
    "tags": []
   },
   "outputs": [
    {
     "name": "stdout",
     "output_type": "stream",
     "text": [
      "/usr/people/popovych/.modelhouse/tmp_files/tmpuwlp9s_j/model/model_spec.json\n",
      "block_6convs_fms8to32_skip25.json\n",
      "categorical/categorical_compch15_gridfalse_maxvalue7_outch2_stepnull_trainsttrue.json\n",
      "identity.json\n",
      "embedder_m0_3x3_fms3x.json\n",
      "block_5convs_3x3_fms1to3_skip14.json\n",
      "average_pool.json\n",
      "embedder_fms4to3.json\n",
      "block_3convs_3x3_fms4to32to3.json\n",
      "average_pool.json\n",
      "block_3convs_3x3_fms3to32to3.json\n",
      "average_pool.json\n",
      "embedder_fms4to3.json\n",
      "block_3convs_3x3_fms4to32to3.json\n",
      "average_pool.json\n",
      "block_3convs_3x3_fms3to32to3.json\n",
      "identity.json\n",
      "identity.json\n",
      "identity.json\n",
      "upsample_residuals.json\n",
      "identity.json\n"
     ]
    },
    {
     "name": "stderr",
     "output_type": "stream",
     "text": [
      "/usr/people/popovych/miniconda3/envs/corgie_env_x3/lib/python3.8/site-packages/artificery-0.0.3.3-py3.8.egg/artificery/parsers/categorical_regression/parse.py:37: UserWarning: torch.range is deprecated and will be removed in a future release because its behavior is inconsistent with Python's range builtin. Instead, use torch.arange, which produces values in [start, end).\n",
      "  self.weights = torch.range(0, self.component_channels - 1, device=device,\n"
     ]
    },
    {
     "name": "stdout",
     "output_type": "stream",
     "text": [
      "/usr/people/popovych/.modelhouse/tmp_files/tmpc5z4wqg7/model/model_spec.json\n",
      "block_6convs_fms8to32_skip25.json\n",
      "categorical/categorical_compch15_gridfalse_maxvalue7_outch2_stepnull_trainsttrue.json\n",
      "identity.json\n",
      "embedder_m0_3x3_fms3x.json\n",
      "block_5convs_3x3_fms1to3_skip14.json\n",
      "average_pool.json\n",
      "embedder_fms4to3.json\n",
      "block_3convs_3x3_fms4to32to3.json\n",
      "average_pool.json\n",
      "block_3convs_3x3_fms3to32to3.json\n",
      "average_pool.json\n",
      "embedder_fms4to3.json\n",
      "block_3convs_3x3_fms4to32to3.json\n",
      "average_pool.json\n",
      "block_3convs_3x3_fms3to32to3.json\n",
      "identity.json\n",
      "identity.json\n",
      "identity.json\n",
      "upsample_residuals.json\n",
      "identity.json\n"
     ]
    },
    {
     "name": "stderr",
     "output_type": "stream",
     "text": [
      "/usr/people/popovych/miniconda3/envs/corgie_env_x3/lib/python3.8/site-packages/artificery-0.0.3.3-py3.8.egg/artificery/parsers/categorical_regression/parse.py:37: UserWarning: torch.range is deprecated and will be removed in a future release because its behavior is inconsistent with Python's range builtin. Instead, use torch.arange, which produces values in [start, end).\n",
      "  self.weights = torch.range(0, self.component_channels - 1, device=device,\n"
     ]
    },
    {
     "name": "stdout",
     "output_type": "stream",
     "text": [
      "/usr/people/popovych/.modelhouse/tmp_files/tmphsiu_2ed/model/model_spec.json\n",
      "block_6convs_fms8to32_skip25.json\n",
      "categorical/categorical_compch15_gridfalse_maxvalue7_outch2_stepnull_trainsttrue.json\n",
      "identity.json\n",
      "embedder_m0_3x3_fms3x.json\n",
      "block_5convs_3x3_fms1to3_skip14.json\n",
      "average_pool.json\n",
      "embedder_fms4to3.json\n",
      "block_3convs_3x3_fms4to32to3.json\n",
      "average_pool.json\n",
      "block_3convs_3x3_fms3to32to3.json\n",
      "identity.json\n",
      "identity.json\n",
      "identity.json\n",
      "upsample_residuals.json\n",
      "identity.json\n"
     ]
    },
    {
     "name": "stderr",
     "output_type": "stream",
     "text": [
      "/usr/people/popovych/miniconda3/envs/corgie_env_x3/lib/python3.8/site-packages/artificery-0.0.3.3-py3.8.egg/artificery/parsers/categorical_regression/parse.py:37: UserWarning: torch.range is deprecated and will be removed in a future release because its behavior is inconsistent with Python's range builtin. Instead, use torch.arange, which produces values in [start, end).\n",
      "  self.weights = torch.range(0, self.component_channels - 1, device=device,\n"
     ]
    },
    {
     "name": "stdout",
     "output_type": "stream",
     "text": [
      "/usr/people/popovych/.modelhouse/tmp_files/tmpddzbrkt7/model/model_spec.json\n",
      "block_6convs_fms8to32_skip25.json\n",
      "categorical/categorical_compch15_gridfalse_maxvalue7_outch2_stepnull_trainsttrue.json\n",
      "identity.json\n",
      "embedder_m0_3x3_fms3x.json\n",
      "block_5convs_3x3_fms1to3_skip14.json\n",
      "average_pool.json\n",
      "embedder_fms4to3.json\n",
      "block_3convs_3x3_fms4to32to3.json\n",
      "average_pool.json\n",
      "block_3convs_3x3_fms3to32to3.json\n",
      "identity.json\n",
      "identity.json\n",
      "identity.json\n",
      "upsample_residuals.json\n",
      "identity.json\n"
     ]
    },
    {
     "name": "stderr",
     "output_type": "stream",
     "text": [
      "/usr/people/popovych/miniconda3/envs/corgie_env_x3/lib/python3.8/site-packages/artificery-0.0.3.3-py3.8.egg/artificery/parsers/categorical_regression/parse.py:37: UserWarning: torch.range is deprecated and will be removed in a future release because its behavior is inconsistent with Python's range builtin. Instead, use torch.arange, which produces values in [start, end).\n",
      "  self.weights = torch.range(0, self.component_channels - 1, device=device,\n"
     ]
    },
    {
     "name": "stdout",
     "output_type": "stream",
     "text": [
      "/usr/people/popovych/.modelhouse/tmp_files/tmp9gnpvu9q/model/model_spec.json\n",
      "block_6convs_fms8to32_skip25.json\n",
      "categorical/categorical_compch15_gridfalse_maxvalue7_outch2_stepnull_trainsttrue.json\n",
      "block_6convs_fms8to32_skip25.json\n",
      "categorical/categorical_compch15_gridfalse_maxvalue7_outch2_stepnull_trainsttrue.json\n",
      "identity.json\n",
      "embedder_m0_3x3_fms3x.json\n",
      "block_5convs_3x3_fms1to3_skip14.json\n",
      "average_pool.json\n",
      "embedder_fms4to3.json\n",
      "block_3convs_3x3_fms4to32to3.json\n",
      "average_pool.json\n",
      "block_3convs_3x3_fms3to32to3.json\n",
      "identity.json\n",
      "identity.json\n",
      "identity.json\n",
      "upsample_residuals.json\n",
      "identity.json\n"
     ]
    },
    {
     "name": "stderr",
     "output_type": "stream",
     "text": [
      "/usr/people/popovych/miniconda3/envs/corgie_env_x3/lib/python3.8/site-packages/artificery-0.0.3.3-py3.8.egg/artificery/parsers/categorical_regression/parse.py:37: UserWarning: torch.range is deprecated and will be removed in a future release because its behavior is inconsistent with Python's range builtin. Instead, use torch.arange, which produces values in [start, end).\n",
      "  self.weights = torch.range(0, self.component_channels - 1, device=device,\n"
     ]
    },
    {
     "name": "stdout",
     "output_type": "stream",
     "text": [
      "/usr/people/popovych/.modelhouse/tmp_files/tmp7exqr4d0/model/model_spec.json\n",
      "block_6convs_fms8to32_skip25.json\n",
      "categorical/categorical_compch15_gridfalse_maxvalue7_outch2_stepnull_trainsttrue.json\n",
      "block_6convs_fms8to32_skip25.json\n",
      "categorical/categorical_compch15_gridfalse_maxvalue7_outch2_stepnull_trainsttrue.json\n",
      "identity.json\n",
      "embedder_m0_3x3_fms3x.json\n",
      "block_5convs_3x3_fms1to3_skip14.json\n",
      "average_pool.json\n",
      "embedder_fms4to3.json\n",
      "block_3convs_3x3_fms4to32to3.json\n",
      "average_pool.json\n",
      "block_3convs_3x3_fms3to32to3.json\n",
      "identity.json\n",
      "identity.json\n",
      "identity.json\n",
      "upsample_residuals.json\n",
      "identity.json\n"
     ]
    },
    {
     "name": "stderr",
     "output_type": "stream",
     "text": [
      "/usr/people/popovych/miniconda3/envs/corgie_env_x3/lib/python3.8/site-packages/artificery-0.0.3.3-py3.8.egg/artificery/parsers/categorical_regression/parse.py:37: UserWarning: torch.range is deprecated and will be removed in a future release because its behavior is inconsistent with Python's range builtin. Instead, use torch.arange, which produces values in [start, end).\n",
      "  self.weights = torch.range(0, self.component_channels - 1, device=device,\n"
     ]
    }
   ],
   "source": [
    "import modelhouse\n",
    "import json\n",
    "\n",
    "iter_count = 600\n",
    "\n",
    "model_path = \"gs://corgie/models/pyramid_m4m6m9/0_mip7in_mip9module\"\n",
    "aligners = defaultdict(lambda: {})\n",
    "\n",
    "\n",
    "aligners[4]['noopt'] = modelhouse.load_model(\n",
    "    path=model_path,\n",
    "    params=json.dumps({\n",
    "         \"finetune\": True, \"finetune_iter\": 1, \"checkpoint_name\": \"metric_net\",\n",
    "         \"finetune_sm\": 10\n",
    "    })\n",
    ")\n",
    "\n",
    "aligners[7]['without_net'] = modelhouse.load_model(\n",
    "    path=model_path,\n",
    "    params=json.dumps({\n",
    "         \"finetune\": True, \"finetune_iter\": iter_count, \"checkpoint_name\": \"metric_net\",\n",
    "         \"finetune_sm\": 30, \"ignore_net_output\": True\n",
    "    })\n",
    ")\n",
    "\n",
    "aligners[7]['with_net'] = modelhouse.load_model(\n",
    "    path=model_path,\n",
    "    params=json.dumps({\n",
    "         \"finetune\": True, \"finetune_iter\": iter_count, \"checkpoint_name\": \"metric_net\",\n",
    "         \"finetune_sm\": 30, \"ignore_net_output\": False\n",
    "    })\n",
    ")\n",
    "\n",
    "model_path = \"gs://corgie/models/pyramid_m4m6m9/1_mip5in_mip6module\"\n",
    "\n",
    "aligners[5]['without_net'] = modelhouse.load_model(\n",
    "    path=model_path,\n",
    "    params=json.dumps({\n",
    "         \"finetune\": True, \"finetune_iter\": iter_count, \"checkpoint_name\": \"metric_net\",\n",
    "         \"finetune_sm\": 40, \"ignore_net_output\": True\n",
    "    })\n",
    ")\n",
    "\n",
    "aligners[5]['with_net'] = modelhouse.load_model(\n",
    "    path=model_path,\n",
    "    params=json.dumps({\n",
    "         \"finetune\": True, \"finetune_iter\": iter_count, \"checkpoint_name\": \"metric_net\",\n",
    "         \"finetune_sm\": 40, \"ignore_net_output\": False\n",
    "    })\n",
    ")\n",
    "\n",
    "model_path = \"gs://corgie/models/pyramid_m4m6m9/2_mip4in_mip4module\"\n",
    "\n",
    "aligners[4]['without_net'] = modelhouse.load_model(\n",
    "    path=model_path,\n",
    "    params=json.dumps({\n",
    "         \"finetune\": True, \"finetune_iter\": iter_count, \"checkpoint_name\": \"metric_net\",\n",
    "         \"finetune_sm\": 100, \"ignore_net_output\": True\n",
    "    })\n",
    ")\n",
    "\n",
    "aligners[4]['with_net'] = modelhouse.load_model(\n",
    "    path=model_path,\n",
    "    params=json.dumps({\n",
    "         \"finetune\": True, \"finetune_iter\": iter_count, \"checkpoint_name\": \"metric_net\",\n",
    "         \"finetune_sm\": 100, \"ignore_net_output\": False\n",
    "    })\n",
    ")\n",
    "\n"
   ]
  },
  {
   "cell_type": "code",
   "execution_count": 70,
   "metadata": {},
   "outputs": [],
   "source": [
    "import cloudvolume as cv\n",
    "import torch\n",
    "\n",
    "img_path = {}\n",
    "img_path['raw'] = 'gs://corgie_package/minie/test_x1/img/unaligned_normalized_defects'\n",
    "img_path['aligned_m7'] = 'gs://corgie_package/tmp/minnie/m7_x3/img/img_aligned'\n",
    "img_path['aligned_m5'] = 'gs://corgie_package/tmp/minnie/m5_x3/img/img_aligned'\n",
    "\n",
    "\n",
    "z_s = 17501\n",
    "z_e = 17509\n",
    "\n",
    "x_s = 150000\n",
    "x_e = 210000\n",
    "y_s = 150000\n",
    "y_e = 210000\n",
    "\n",
    "def get_srctgt(cv_path, x_start, y_start, z, img_mip, x_size=1024, y_size=1024):\n",
    "    img_cv = cv.CloudVolume(cv_path, mip=img_mip, parallel=True, progress=False, bounded=False, fill_missing=True)\n",
    "    \n",
    "    x_size *= 2**img_mip\n",
    "    y_size *= 2**img_mip\n",
    "\n",
    "    img1_np = img_cv[(x_start)//2**img_mip:(x_start+x_size)//2**img_mip, (y_start)//2**img_mip:(y_start+y_size)//2**img_mip, z:z+1].squeeze()\n",
    "    img2_np = img_cv[(x_start)//2**img_mip:(x_start+x_size)//2**img_mip, (y_start)//2**img_mip:(y_start+y_size)//2**img_mip, z+1:z+2].squeeze()\n",
    "\n",
    "    img1_t = torch.tensor(img2_np, device='cuda').unsqueeze(0).unsqueeze(0)\n",
    "    img2_t = torch.tensor(img1_np, device='cuda').unsqueeze(0).unsqueeze(0)\n",
    "    \n",
    "    img1_t = torch.tensor(img2_np, device='cuda').unsqueeze(0).unsqueeze(0)\n",
    "    img2_t = torch.tensor(img1_np, device='cuda').unsqueeze(0).unsqueeze(0)\n",
    "\n",
    "    #src_tgt_t = torch.cat([img1_t, img2_t], 1)\n",
    "    return img1_t, img2_t"
   ]
  },
  {
   "cell_type": "code",
   "execution_count": 71,
   "metadata": {},
   "outputs": [
    {
     "data": {
      "application/vnd.jupyter.widget-view+json": {
       "model_id": "42466c422dd04929a23c4852c8e9a433",
       "version_major": 2,
       "version_minor": 0
      },
      "text/plain": [
       "interactive(children=(ToggleButtons(description='Image:', options=(0, 1), value=0), IntText(value=1, descripti…"
      ]
     },
     "metadata": {},
     "output_type": "display_data"
    }
   ],
   "source": [
    "x = random.randint(x_s, x_e)\n",
    "y = random.randint(y_s, y_e)\n",
    "z = random.randint(z_s, z_e)\n",
    "\n",
    "src, tgt = get_srctgt(\n",
    "    img_path['aligned_m5'],\n",
    "    x, y, z, \n",
    "    img_mip=4\n",
    ")\n",
    "simple_visualizer().visualize([src, tgt])"
   ]
  },
  {
   "cell_type": "code",
   "execution_count": 72,
   "metadata": {},
   "outputs": [
    {
     "name": "stderr",
     "output_type": "stream",
     "text": [
      "/usr/people/popovych/miniconda3/envs/corgie_env_x3/lib/python3.8/site-packages/torch/nn/functional.py:4065: UserWarning: Default grid_sample and affine_grid behavior has changed to align_corners=False since 1.3.0. Please specify align_corners=True if the old behavior is desired. See the documentation of grid_sample for details.\n",
      "  warnings.warn(\n",
      "/usr/people/popovych/miniconda3/envs/corgie_env_x3/lib/python3.8/site-packages/torch/nn/functional.py:4003: UserWarning: Default grid_sample and affine_grid behavior has changed to align_corners=False since 1.3.0. Please specify align_corners=True if the old behavior is desired. See the documentation of grid_sample for details.\n",
      "  warnings.warn(\n",
      "/usr/people/popovych/miniconda3/envs/corgie_env_x3/lib/python3.8/site-packages/torch/nn/functional.py:3631: UserWarning: Default upsampling behavior when mode=bilinear is changed to align_corners=False since 0.4.0. Please specify align_corners=True if the old behavior is desired. See the documentation of nn.Upsample for details.\n",
      "  warnings.warn(\n"
     ]
    },
    {
     "name": "stdout",
     "output_type": "stream",
     "text": [
      "0.19917011260986328secs for net\n",
      "0.44655 0.4359272 0.0106228\n",
      "New best: 481, No impr: 6, Iter: 599\n",
      "0.41695175 0.3885934 0.028358327\n",
      "8.258604049682617\n",
      "==========\n"
     ]
    }
   ],
   "source": [
    "with_net_losses = aligners[4]['with_net'](src_img=src, tgt_img=tgt)\n",
    "#pred_res[:, :, 20:-20, 20:-20].abs().max()\n"
   ]
  },
  {
   "cell_type": "code",
   "execution_count": 73,
   "metadata": {},
   "outputs": [
    {
     "name": "stdout",
     "output_type": "stream",
     "text": [
      "0.16728687286376953secs for net\n",
      "0.47861063 0.47861063 0.0\n",
      "New best: 456, No impr: 6, Iter: 599\n",
      "0.41693825 0.3882523 0.028685972\n",
      "8.271231889724731\n",
      "==========\n"
     ]
    }
   ],
   "source": [
    "without_net_losses = aligners[4]['without_net'](src_img=src, tgt_img=tgt)\n",
    "#pred_res[:, :, 20:-20, 20:-20].abs().max()\n"
   ]
  },
  {
   "cell_type": "code",
   "execution_count": 67,
   "metadata": {},
   "outputs": [],
   "source": [
    "line1 = with_net_losses['result'][2:200]\n",
    "line2 = without_net_losses['result'][2:200]"
   ]
  },
  {
   "cell_type": "code",
   "execution_count": 68,
   "metadata": {},
   "outputs": [
    {
     "data": {
      "image/png": "[encoded data removed]",
      "text/plain": [
       "<Figure size 432x288 with 1 Axes>"
      ]
     },
     "metadata": {
      "needs_background": "light"
     },
     "output_type": "display_data"
    }
   ],
   "source": [
    "import seaborn as sns\n",
    "g = sns.lineplot(y=line1, x=range(len(line1)))\n",
    "g = sns.lineplot(y=line2, x=range(len(line2)))"
   ]
  },
  {
   "cell_type": "code",
   "execution_count": 40,
   "metadata": {},
   "outputs": [
    {
     "data": {
      "image/png": "[encoded data removed]",
      "text/plain": [
       "<Figure size 432x288 with 1 Axes>"
      ]
     },
     "metadata": {
      "needs_background": "light"
     },
     "output_type": "display_data"
    }
   ],
   "source": [
    "import matplotlib.pyplot as plt\n",
    "plt.plot([x * 100 for x in line1])\n",
    "plt.ylabel('some numbers')\n",
    "plt.yscale('log')\n",
    "plt.show()"
   ]
  },
  {
   "cell_type": "code",
   "execution_count": 41,
   "metadata": {},
   "outputs": [
    {
     "data": {
      "image/png": "[encoded data removed]",
      "text/plain": [
       "<Figure size 432x288 with 1 Axes>"
      ]
     },
     "metadata": {
      "needs_background": "light"
     },
     "output_type": "display_data"
    }
   ],
   "source": [
    "import matplotlib.pyplot as plt\n",
    "plt.plot([x * 100 for x in line1])\n",
    "plt.ylabel('some numbers')\n",
    "plt.show()"
   ]
  },
  {
   "cell_type": "code",
   "execution_count": 38,
   "metadata": {},
   "outputs": [
    {
     "data": {
      "image/png": "[encoded data removed]",
      "text/plain": [
       "<Figure size 432x288 with 4 Axes>"
      ]
     },
     "metadata": {
      "needs_background": "light"
     },
     "output_type": "display_data"
    }
   ],
   "source": [
    "import numpy as np\n",
    "np.random.seed(19680801)\n",
    "\n",
    "# make up some data in the open interval (0, 1)\n",
    "y = np.random.normal(loc=0.5, scale=0.4, size=1000)\n",
    "y = y[(y > 0) & (y < 1)]\n",
    "y.sort()\n",
    "x = np.arange(len(y))\n",
    "\n",
    "# plot with various axes scales\n",
    "plt.figure()\n",
    "\n",
    "# linear\n",
    "plt.subplot(221)\n",
    "plt.plot(y)\n",
    "plt.yscale('linear')\n",
    "plt.title('linear')\n",
    "plt.grid(True)\n",
    "\n",
    "# log\n",
    "plt.subplot(222)\n",
    "plt.plot(y)\n",
    "plt.yscale('log')\n",
    "plt.title('log')\n",
    "plt.grid(True)\n",
    "\n",
    "# symmetric log\n",
    "plt.subplot(223)\n",
    "plt.plot(y)\n",
    "plt.yscale('symlog', linthresh=0.01)\n",
    "plt.title('symlog')\n",
    "plt.grid(True)\n",
    "\n",
    "# logit\n",
    "plt.subplot(224)\n",
    "plt.plot(y)\n",
    "plt.yscale('logit')\n",
    "plt.title('logit')\n",
    "plt.grid(True)\n",
    "# Adjust the subplot layout, because the logit one may take more space\n",
    "# than usual, due to y-tick labels like \"1 - 10^{-3}\"\n",
    "plt.subplots_adjust(top=0.92, bottom=0.08, left=0.10, right=0.95, hspace=0.25,\n",
    "                    wspace=0.35)\n",
    "\n",
    "plt.show()"
   ]
  },
  {
   "cell_type": "code",
   "execution_count": 54,
   "metadata": {},
   "outputs": [
    {
     "name": "stdout",
     "output_type": "stream",
     "text": [
      "0.07712221145629883secs for net\n"
     ]
    },
    {
     "data": {
      "text/plain": [
       "field(2.8730, device='cuda:0')"
      ]
     },
     "execution_count": 54,
     "metadata": {},
     "output_type": "execute_result"
    }
   ],
   "source": [
    "field = aligners[4]['noopt'](src_img=src, tgt_img=tgt)\n",
    "field.max()"
   ]
  },
  {
   "cell_type": "code",
   "execution_count": 55,
   "metadata": {},
   "outputs": [
    {
     "data": {
      "application/vnd.jupyter.widget-view+json": {
       "model_id": "50064e109bb342e8b095174ebad3f8ee",
       "version_major": 2,
       "version_minor": 0
      },
      "text/plain": [
       "interactive(children=(ToggleButtons(description='Image:', options=(0, 1, 2), value=0), IntText(value=1, descri…"
      ]
     },
     "metadata": {},
     "output_type": "display_data"
    }
   ],
   "source": [
    "\n",
    "simple_visualizer().visualize([src, field.from_pixels()(src), tgt])"
   ]
  },
  {
   "cell_type": "code",
   "execution_count": 24,
   "metadata": {},
   "outputs": [
    {
     "ename": "NameError",
     "evalue": "name 'pred_res' is not defined",
     "output_type": "error",
     "traceback": [
      "\u001b[0;31m---------------------------------------------------------------------------\u001b[0m",
      "\u001b[0;31mNameError\u001b[0m                                 Traceback (most recent call last)",
      "\u001b[0;32m/tmp/ipykernel_3624/2625591639.py\u001b[0m in \u001b[0;36m<module>\u001b[0;34m\u001b[0m\n\u001b[0;32m----> 1\u001b[0;31m \u001b[0msimple_visualizer\u001b[0m\u001b[0;34m(\u001b[0m\u001b[0;34m)\u001b[0m\u001b[0;34m.\u001b[0m\u001b[0mvisualize\u001b[0m\u001b[0;34m(\u001b[0m\u001b[0;34m[\u001b[0m\u001b[0mpred_res\u001b[0m\u001b[0;34m,\u001b[0m \u001b[0mpred_res\u001b[0m\u001b[0;34m.\u001b[0m\u001b[0mfrom_pixels\u001b[0m\u001b[0;34m(\u001b[0m\u001b[0;34m)\u001b[0m\u001b[0;34m(\u001b[0m\u001b[0mimg1_t\u001b[0m\u001b[0;34m)\u001b[0m\u001b[0;34m,\u001b[0m \u001b[0mimg1_t\u001b[0m\u001b[0;34m,\u001b[0m \u001b[0mimg2_t\u001b[0m\u001b[0;34m]\u001b[0m\u001b[0;34m)\u001b[0m\u001b[0;34m\u001b[0m\u001b[0;34m\u001b[0m\u001b[0m\n\u001b[0m",
      "\u001b[0;31mNameError\u001b[0m: name 'pred_res' is not defined"
     ]
    }
   ],
   "source": [
    "simple_visualizer().visualize([pred_res, pred_res.from_pixels()(img1_t), img1_t, img2_t])"
   ]
  },
  {
   "cell_type": "code",
   "execution_count": 6,
   "metadata": {},
   "outputs": [],
   "source": [
    "import random\n",
    "import torch\n",
    "import numpy as np\n",
    "\n",
    "import cloudvolume as cv\n",
    "import torch\n",
    "\n",
    "from visualize import PyramidVisualizer, get_dataset, simple_visualizer\n",
    "from metroem.aligner import Aligner\n",
    "\n",
    "#raw_img_path = 'gs://corgie_package/paper/basil_data_x0/aligned_x0/img/img_full_x0_rend'\n",
    "raw_img_path = 'https://s3-hpcrc.rc.princeton.edu/fafbv15-em/v1'\n",
    "raw_img_path = 'matrix://seamless-paper/prod_x3/normed/img/img_norm'\n",
    "\n",
    "\n",
    "img_mip = 3\n",
    "\n",
    "z = 500\n",
    "x_start = 115000\n",
    "y_start = 50000\n",
    "\n",
    "x_size = 1024 * 2**img_mip\n",
    "y_size = x_size\n",
    "pad = 64 * 2**3\n",
    "#\n",
    "#img_cv = cv.CloudVolume(raw_img_path, mip=img_mip, parallel=True, progress=False)\n",
    "#masked_img_cv = cv.CloudVolume(masked_img_path, mip=masked_img_mip, parallel=True, progress=False)\n",
    "#field_cv = cv.CloudVolume(field_path, mip=field_mip, parallel=True, progress=False)\n",
    "img_cv = cv.CloudVolume(raw_img_path, mip=img_mip, parallel=True, progress=False)\n",
    "img1_np = img_cv[(x_start-pad)//2**img_mip:(x_start+x_size+pad)//2**img_mip, (y_start-pad)//2**img_mip:(y_start+y_size+pad)//2**img_mip, z:z+1].squeeze()\n",
    "img2_np = img_cv[(x_start-pad)//2**img_mip:(x_start+x_size+pad)//2**img_mip, (y_start-pad)//2**img_mip:(y_start+y_size+pad)//2**img_mip, z+1:z+2].squeeze()"
   ]
  },
  {
   "cell_type": "code",
   "execution_count": 13,
   "metadata": {},
   "outputs": [
    {
     "data": {
      "text/plain": [
       "'X: 14311-15463  Y: 6186-7338'"
      ]
     },
     "execution_count": 13,
     "metadata": {},
     "output_type": "execute_result"
    }
   ],
   "source": [
    "f\"X: {(x_start-pad)//2**img_mip}-{(x_start+x_size+pad)//2**img_mip}\" + f\"  Y: {(y_start-pad)//2**img_mip}-{(y_start+y_size+pad)//2**img_mip}\""
   ]
  },
  {
   "cell_type": "code",
   "execution_count": 14,
   "metadata": {},
   "outputs": [],
   "source": []
  },
  {
   "cell_type": "code",
   "execution_count": 15,
   "metadata": {},
   "outputs": [],
   "source": [
    "img1_t = torch.tensor(img2_np, device='cuda').unsqueeze(0).unsqueeze(0)\n",
    "img2_t = torch.tensor(img1_np, device='cuda').unsqueeze(0).unsqueeze(0)\n",
    "\n",
    "src_tgt_t = torch.cat([img1_t, img2_t], 1)\n",
    "pred_res = aligner(src_img=img1_t, tgt_img=img2_t)"
   ]
  },
  {
   "cell_type": "code",
   "execution_count": 16,
   "metadata": {},
   "outputs": [
    {
     "data": {
      "text/plain": [
       "tensor(0.1529, device='cuda:0')"
      ]
     },
     "execution_count": 16,
     "metadata": {},
     "output_type": "execute_result"
    }
   ],
   "source": [
    "img1_t.mean()"
   ]
  },
  {
   "cell_type": "code",
   "execution_count": 17,
   "metadata": {},
   "outputs": [
    {
     "data": {
      "text/plain": [
       "tensor(6.0104, device='cuda:0')"
      ]
     },
     "execution_count": 17,
     "metadata": {},
     "output_type": "execute_result"
    }
   ],
   "source": [
    "pred_res.max()"
   ]
  },
  {
   "cell_type": "code",
   "execution_count": 18,
   "metadata": {},
   "outputs": [
    {
     "data": {
      "application/vnd.jupyter.widget-view+json": {
       "model_id": "379603e80feb49659bcf1d4b35bd95e6",
       "version_major": 2,
       "version_minor": 0
      },
      "text/plain": [
       "interactive(children=(ToggleButtons(description='Image:', options=(0, 1, 2, 3), value=0), IntText(value=1, des…"
      ]
     },
     "metadata": {},
     "output_type": "display_data"
    }
   ],
   "source": [
    "simple_visualizer().visualize([pred_res, pred_res.from_pixels()(img1_t), img1_t, img2_t])"
   ]
  },
  {
   "cell_type": "code",
   "execution_count": 19,
   "metadata": {},
   "outputs": [
    {
     "data": {
      "application/vnd.jupyter.widget-view+json": {
       "model_id": "a84bc692f83f41aba7415669532a26f2",
       "version_major": 2,
       "version_minor": 0
      },
      "text/plain": [
       "interactive(children=(ToggleButtons(description='Image:', options=(0, 1, 2, 3), value=0), IntText(value=1, des…"
      ]
     },
     "metadata": {},
     "output_type": "display_data"
    }
   ],
   "source": [
    "\n",
    "simple_visualizer().visualize([pred_res, pred_res.from_pixels()(img1_t), img1_t, img2_t])"
   ]
  },
  {
   "cell_type": "code",
   "execution_count": 20,
   "metadata": {},
   "outputs": [
    {
     "ename": "NameError",
     "evalue": "name 'ndimage' is not defined",
     "output_type": "error",
     "traceback": [
      "\u001b[0;31m---------------------------------------------------------------------------\u001b[0m",
      "\u001b[0;31mNameError\u001b[0m                                 Traceback (most recent call last)",
      "\u001b[0;32m<ipython-input-20-dcd06dad36bc>\u001b[0m in \u001b[0;36m<module>\u001b[0;34m\u001b[0m\n\u001b[1;32m      3\u001b[0m \u001b[0mmask\u001b[0m \u001b[0;34m=\u001b[0m \u001b[0;34m(\u001b[0m\u001b[0mimg1_np\u001b[0m \u001b[0;34m!=\u001b[0m \u001b[0;36m0\u001b[0m\u001b[0;34m)\u001b[0m\u001b[0;34m.\u001b[0m\u001b[0mastype\u001b[0m\u001b[0;34m(\u001b[0m\u001b[0mnp\u001b[0m\u001b[0;34m.\u001b[0m\u001b[0mfloat32\u001b[0m\u001b[0;34m)\u001b[0m\u001b[0;34m\u001b[0m\u001b[0;34m\u001b[0m\u001b[0m\n\u001b[1;32m      4\u001b[0m \u001b[0mclosed\u001b[0m \u001b[0;34m=\u001b[0m \u001b[0mmetroem\u001b[0m\u001b[0;34m.\u001b[0m\u001b[0mmasks\u001b[0m\u001b[0;34m.\u001b[0m\u001b[0mclosing\u001b[0m\u001b[0;34m(\u001b[0m\u001b[0mmask\u001b[0m\u001b[0;34m,\u001b[0m \u001b[0mn\u001b[0m\u001b[0;34m=\u001b[0m\u001b[0;36m40\u001b[0m\u001b[0;34m)\u001b[0m\u001b[0;34m.\u001b[0m\u001b[0mastype\u001b[0m\u001b[0;34m(\u001b[0m\u001b[0mnp\u001b[0m\u001b[0;34m.\u001b[0m\u001b[0mfloat32\u001b[0m\u001b[0;34m)\u001b[0m\u001b[0;34m\u001b[0m\u001b[0;34m\u001b[0m\u001b[0m\n\u001b[0;32m----> 5\u001b[0;31m \u001b[0mclosed_2\u001b[0m \u001b[0;34m=\u001b[0m \u001b[0mndimage\u001b[0m\u001b[0;34m.\u001b[0m\u001b[0mbinary_closing\u001b[0m\u001b[0;34m(\u001b[0m\u001b[0mmask\u001b[0m\u001b[0;34m,\u001b[0m \u001b[0miterations\u001b[0m\u001b[0;34m=\u001b[0m\u001b[0;36m40\u001b[0m\u001b[0;34m)\u001b[0m\u001b[0;34m.\u001b[0m\u001b[0mastype\u001b[0m\u001b[0;34m(\u001b[0m\u001b[0mnp\u001b[0m\u001b[0;34m.\u001b[0m\u001b[0mint\u001b[0m\u001b[0;34m)\u001b[0m\u001b[0;34m\u001b[0m\u001b[0;34m\u001b[0m\u001b[0m\n\u001b[0m\u001b[1;32m      6\u001b[0m \u001b[0msimple_visualizer\u001b[0m\u001b[0;34m(\u001b[0m\u001b[0;34m)\u001b[0m\u001b[0;34m.\u001b[0m\u001b[0mvisualize\u001b[0m\u001b[0;34m(\u001b[0m\u001b[0;34m[\u001b[0m\u001b[0mget_np\u001b[0m\u001b[0;34m(\u001b[0m\u001b[0msrc_defects\u001b[0m\u001b[0;34m)\u001b[0m\u001b[0;34m.\u001b[0m\u001b[0mastype\u001b[0m\u001b[0;34m(\u001b[0m\u001b[0mnp\u001b[0m\u001b[0;34m.\u001b[0m\u001b[0mfloat32\u001b[0m\u001b[0;34m)\u001b[0m\u001b[0;34m,\u001b[0m \u001b[0mget_np\u001b[0m\u001b[0;34m(\u001b[0m\u001b[0msrc_zeros\u001b[0m\u001b[0;34m)\u001b[0m\u001b[0;34m.\u001b[0m\u001b[0mastype\u001b[0m\u001b[0;34m(\u001b[0m\u001b[0mnp\u001b[0m\u001b[0;34m.\u001b[0m\u001b[0mfloat32\u001b[0m\u001b[0;34m)\u001b[0m\u001b[0;34m,\u001b[0m \u001b[0;34m(\u001b[0m\u001b[0mmask\u001b[0m \u001b[0;34m==\u001b[0m \u001b[0;36m0\u001b[0m\u001b[0;34m)\u001b[0m \u001b[0;34m*\u001b[0m \u001b[0mclosed\u001b[0m\u001b[0;34m,\u001b[0m \u001b[0mclosed\u001b[0m\u001b[0;34m,\u001b[0m \u001b[0mclosed_2\u001b[0m\u001b[0;34m,\u001b[0m \u001b[0mimg1_np\u001b[0m\u001b[0;34m,\u001b[0m \u001b[0mmask\u001b[0m\u001b[0;34m,\u001b[0m \u001b[0mclosed\u001b[0m\u001b[0;34m]\u001b[0m\u001b[0;34m)\u001b[0m\u001b[0;34m\u001b[0m\u001b[0;34m\u001b[0m\u001b[0m\n",
      "\u001b[0;31mNameError\u001b[0m: name 'ndimage' is not defined"
     ]
    }
   ],
   "source": [
    "import metroem\n",
    "from metroem.helpers import get_np\n",
    "mask = (img1_np != 0).astype(np.float32)\n",
    "closed = metroem.masks.closing(mask, n=40).astype(np.float32)\n",
    "closed_2 = ndimage.binary_closing(mask, iterations=40).astype(np.int)\n",
    "simple_visualizer().visualize([get_np(src_defects).astype(np.float32), get_np(src_zeros).astype(np.float32), (mask == 0) * closed, closed, closed_2, img1_np, mask, closed])"
   ]
  },
  {
   "cell_type": "code",
   "execution_count": null,
   "metadata": {},
   "outputs": [],
   "source": [
    "ndimage.binary_closing(a).astype(np.int)"
   ]
  },
  {
   "cell_type": "code",
   "execution_count": 19,
   "metadata": {},
   "outputs": [
    {
     "name": "stderr",
     "output_type": "stream",
     "text": [
      "/usr/people/popovych/env/corgie_merge/lib/python3.7/site-packages/ipykernel_launcher.py:1: DeprecationWarning: `np.int` is a deprecated alias for the builtin `int`. To silence this warning, use `int` by itself. Doing this will not modify any behavior and is safe. When replacing `np.int`, you may wish to use e.g. `np.int64` or `np.int32` to specify the precision. If you wish to review your current use, check the release note link for additional information.\n",
      "Deprecated in NumPy 1.20; for more details and guidance: https://numpy.org/devdocs/release/1.20.0-notes.html#deprecations\n",
      "  \"\"\"Entry point for launching an IPython kernel.\n"
     ]
    }
   ],
   "source": [
    "a = np.zeros((5,5), dtype=np.int)"
   ]
  },
  {
   "cell_type": "code",
   "execution_count": 20,
   "metadata": {},
   "outputs": [],
   "source": [
    "a[1:-1, 1:-1] = 1; a[2,2] = 0"
   ]
  },
  {
   "cell_type": "code",
   "execution_count": 21,
   "metadata": {},
   "outputs": [
    {
     "data": {
      "text/plain": [
       "array([[0, 0, 0, 0, 0],\n",
       "       [0, 1, 1, 1, 0],\n",
       "       [0, 1, 0, 1, 0],\n",
       "       [0, 1, 1, 1, 0],\n",
       "       [0, 0, 0, 0, 0]])"
      ]
     },
     "execution_count": 21,
     "metadata": {},
     "output_type": "execute_result"
    }
   ],
   "source": [
    "a"
   ]
  },
  {
   "cell_type": "code",
   "execution_count": 22,
   "metadata": {},
   "outputs": [
    {
     "data": {
      "application/vnd.jupyter.widget-view+json": {
       "model_id": "c049ab09b4e2494c89379301a38e64c9",
       "version_major": 2,
       "version_minor": 0
      },
      "text/plain": [
       "interactive(children=(ToggleButtons(description='Image:', options=(0,), value=0), IntText(value=1, description…"
      ]
     },
     "metadata": {},
     "output_type": "display_data"
    }
   ],
   "source": [
    "simple_visualizer().visualize([a])"
   ]
  },
  {
   "cell_type": "code",
   "execution_count": 23,
   "metadata": {},
   "outputs": [
    {
     "ename": "NameError",
     "evalue": "name 'ndimage' is not defined",
     "output_type": "error",
     "traceback": [
      "\u001b[0;31m---------------------------------------------------------------------------\u001b[0m",
      "\u001b[0;31mNameError\u001b[0m                                 Traceback (most recent call last)",
      "\u001b[0;32m<ipython-input-23-7b4b16b14ce1>\u001b[0m in \u001b[0;36m<module>\u001b[0;34m\u001b[0m\n\u001b[0;32m----> 1\u001b[0;31m \u001b[0mndimage\u001b[0m\u001b[0;34m.\u001b[0m\u001b[0mbinary_closing\u001b[0m\u001b[0;34m(\u001b[0m\u001b[0ma\u001b[0m\u001b[0;34m)\u001b[0m\u001b[0;34m.\u001b[0m\u001b[0mastype\u001b[0m\u001b[0;34m(\u001b[0m\u001b[0mnp\u001b[0m\u001b[0;34m.\u001b[0m\u001b[0mint\u001b[0m\u001b[0;34m)\u001b[0m\u001b[0;34m\u001b[0m\u001b[0;34m\u001b[0m\u001b[0m\n\u001b[0m",
      "\u001b[0;31mNameError\u001b[0m: name 'ndimage' is not defined"
     ]
    }
   ],
   "source": []
  },
  {
   "cell_type": "code",
   "execution_count": 24,
   "metadata": {},
   "outputs": [],
   "source": [
    "from scipy import ndimage"
   ]
  },
  {
   "cell_type": "code",
   "execution_count": 26,
   "metadata": {},
   "outputs": [
    {
     "name": "stderr",
     "output_type": "stream",
     "text": [
      "/usr/people/popovych/env/corgie_merge/lib/python3.7/site-packages/ipykernel_launcher.py:1: DeprecationWarning: `np.int` is a deprecated alias for the builtin `int`. To silence this warning, use `int` by itself. Doing this will not modify any behavior and is safe. When replacing `np.int`, you may wish to use e.g. `np.int64` or `np.int32` to specify the precision. If you wish to review your current use, check the release note link for additional information.\n",
      "Deprecated in NumPy 1.20; for more details and guidance: https://numpy.org/devdocs/release/1.20.0-notes.html#deprecations\n",
      "  \"\"\"Entry point for launching an IPython kernel.\n"
     ]
    }
   ],
   "source": [
    "once = ndimage.binary_closing(a).astype(np.int)"
   ]
  },
  {
   "cell_type": "code",
   "execution_count": 27,
   "metadata": {},
   "outputs": [
    {
     "data": {
      "application/vnd.jupyter.widget-view+json": {
       "model_id": "b3d43858ff1c4084bd91bbb5e2f017e7",
       "version_major": 2,
       "version_minor": 0
      },
      "text/plain": [
       "interactive(children=(ToggleButtons(description='Image:', options=(0,), value=0), IntText(value=1, description…"
      ]
     },
     "metadata": {},
     "output_type": "display_data"
    }
   ],
   "source": [
    "simple_visualizer().visualize([once])"
   ]
  },
  {
   "cell_type": "code",
   "execution_count": null,
   "metadata": {},
   "outputs": [],
   "source": []
  }
 ],
 "metadata": {
  "kernelspec": {
   "display_name": "corgie_env_x33",
   "language": "python",
   "name": "corgie_env_x33"
  },
  "language_info": {
   "codemirror_mode": {
    "name": "ipython",
    "version": 3
   },
   "file_extension": ".py",
   "mimetype": "text/x-python",
   "name": "python",
   "nbconvert_exporter": "python",
   "pygments_lexer": "ipython3",
   "version": "3.8.12"
  }
 },
 "nbformat": 4,
 "nbformat_minor": 4
}
